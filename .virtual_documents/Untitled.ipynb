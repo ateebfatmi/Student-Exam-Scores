


import numpy as np
import pandas as pd
import matplotlib.pyplot as plt
import seaborn as sns


df = pd.read_csv("student_scores.csv")
print(df.head())


df.describe()


df.info()


df.isnull().sum()





df = df.drop("Unnamed: 0", axis = 1)
print(df.head())


df.head()





plt.figure(figsize= (4,5))
ax = sns.countplot(data = df, x = "Gender")
ax.bar_label(ax.containers[0])
plt.title("Gender Distribution")
plt.show()





gb = df.groupby("ParentEduc").agg({"MathScore":"mean","ReadingScore":"mean", "WritingScore":"mean"})
print(gb)


plt.figure(figsize= (4,4))
sns.heatmap(gb, annot = True)
plt.title("Relationship between parent's education and student's score")
plt.show()





gb1 = df.groupby("ParentMaritalStatus").agg({"MathScore":"mean","ReadingScore":"mean", "WritingScore":"mean"})
print(gb1)


plt.figure(figsize= (4,4))
sns.heatmap(gb1, annot = True)
plt.title("Relationship between parent's marital status and student's score")
plt.show()





sns.boxplot(data = df, x = "MathScore")
plt.show()


sns.boxplot(data = df, x = "WritingScore")
plt.show()


sns.boxplot(data = df, x = "ReadingScore")
plt.show()


print(df["EthnicGroup"].unique())





# Count the number of students in each ethnic group
groupA = df.loc[df['EthnicGroup'] == "group A"].count()
groupB = df.loc[df['EthnicGroup'] == "group B"].count()
groupC = df.loc[df['EthnicGroup'] == "group C"].count()
groupD = df.loc[df['EthnicGroup'] == "group D"].count()
groupE = df.loc[df['EthnicGroup'] == "group E"].count()

# Extract only the counts of the EthnicGroup column
counts = [
    groupA["EthnicGroup"],
    groupB["EthnicGroup"],
    groupC["EthnicGroup"],
    groupD["EthnicGroup"],
    groupE["EthnicGroup"]
]

labels = ["Group A", "Group B", "Group C", "Group D", "Group E"]

# Create pie chart
plt.pie(counts, labels=labels, autopct='%1.1f%%', startangle=140)
plt.title("Distribution of Ethnic Groups")
plt.axis('equal')  # Makes the pie a circle
plt.show()



sns.countplot(data = df, x = 'EthnicGroup')
ax.bar_label(ax.containers[0])



